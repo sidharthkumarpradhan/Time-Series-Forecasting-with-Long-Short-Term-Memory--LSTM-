{
 "cells": [
  {
   "cell_type": "code",
   "execution_count": null,
   "metadata": {},
   "outputs": [],
   "source": [
    "# Data_Preprocessing.ipynb\n",
    "\n",
    "# Import necessary libraries\n",
    "import pandas as pd\n",
    "from sklearn.preprocessing import MinMaxScaler\n",
    "\n",
    "# Load the time series dataset\n",
    "df = pd.read_csv('data/time_series_data.csv')\n",
    "\n",
    "# Display the first few rows of the dataset\n",
    "print(\"Original Dataset:\")\n",
    "print(df.head())\n",
    "\n",
    "# Convert the 'timestamp' column to datetime format\n",
    "df['timestamp'] = pd.to_datetime(df['timestamp'])\n",
    "\n",
    "# Check for missing values\n",
    "print(\"\\nMissing Values:\")\n",
    "print(df.isnull().sum())\n",
    "\n",
    "# Set the 'timestamp' column as the index\n",
    "df.set_index('timestamp', inplace=True)\n",
    "\n",
    "# Resample the data to a daily frequency (adjust as needed)\n",
    "df_resampled = df.resample('D').mean()\n",
    "\n",
    "# Interpolate missing values if any\n",
    "df_resampled['value'] = df_resampled['value'].interpolate()\n",
    "\n",
    "# Display the preprocessed dataset\n",
    "print(\"\\nPreprocessed Dataset:\")\n",
    "print(df_resampled.head())\n",
    "\n",
    "# Normalize the 'value' column using Min-Max scaling\n",
    "scaler = MinMaxScaler()\n",
    "df_resampled['value_scaled'] = scaler.fit_transform(df_resampled[['value']])\n",
    "\n",
    "# Display the final preprocessed and scaled dataset\n",
    "print(\"\\nFinal Preprocessed and Scaled Dataset:\")\n",
    "print(df_resampled.head())\n",
    "\n",
    "# Save the preprocessed and scaled dataset to a new CSV file\n",
    "df_resampled.to_csv('data/preprocessed_time_series_data.csv')\n"
   ]
  }
 ],
 "metadata": {
  "language_info": {
   "name": "python"
  }
 },
 "nbformat": 4,
 "nbformat_minor": 2
}
